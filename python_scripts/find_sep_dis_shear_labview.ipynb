{
 "cells": [
  {
   "cell_type": "code",
   "execution_count": 101,
   "metadata": {
    "ExecuteTime": {
     "end_time": "2021-08-22T18:56:21.084888Z",
     "start_time": "2021-08-22T18:56:21.072885Z"
    }
   },
   "outputs": [
    {
     "name": "stdout",
     "output_type": "stream",
     "text": [
      "Populating the interactive namespace from numpy and matplotlib\n"
     ]
    }
   ],
   "source": [
    "import math\n",
    "import time\n",
    "import csv\n",
    "import numpy as np\n",
    "import os.path\n",
    "from os import path\n",
    "import scipy.optimize as optimize\n",
    "import matplotlib.pyplot as plt\n",
    "import seaborn\n",
    "import pandas\n",
    "%pylab inline"
   ]
  },
  {
   "cell_type": "code",
   "execution_count": 102,
   "metadata": {
    "ExecuteTime": {
     "end_time": "2021-08-22T18:56:22.998814Z",
     "start_time": "2021-08-22T18:56:22.803813Z"
    }
   },
   "outputs": [
    {
     "name": "stdout",
     "output_type": "stream",
     "text": [
      "inside if (analyze)\n",
      "init analyze\n",
      "Area: 206.2876911785808\n",
      "Intitial Separation: 739.5376962905592\n",
      "Shear Distance: -1.388090146874462\n",
      "plotting...\n"
     ]
    },
    {
     "data": {
      "image/png": "[encoded data removed]",
      "text/plain": [
       "<Figure size 288x288 with 1 Axes>"
      ]
     },
     "metadata": {
      "needs_background": "light"
     },
     "output_type": "display_data"
    }
   ],
   "source": [
    "class Shear_Distance():\n",
    "    \"\"\"\n",
    "    Class for calculating shear distance, overlapping area, and initial\n",
    "    separation distance.\n",
    "    \"\"\"\n",
    "    def __init__(self, filename, filename2, step_size = 10, area = None, separation = None, plot = True):\n",
    "        \"\"\"\n",
    "        Executes appropriate methods in the correct order. Takes one required\n",
    "        argument which must be the name of the csv file containing the relevant\n",
    "        data and several optional arguments to indicate the step size (in\n",
    "        microns), the area (in mm^2) if you know it, the initial separation\n",
    "        distance (in microns) if you know it, and whether you want the data\n",
    "        plotted.\n",
    "        \"\"\"\n",
    "        print(\"init analyze\")\n",
    "        self.ep = 8.85\n",
    "        self.step_size = step_size\n",
    "        # creates variable \"self.data\" that is a list of lists containing\n",
    "        # all of the information from the named csv file\n",
    "        self.data = self.load_csv(filename)\n",
    "        self.data2 = self.load_csv(filename2)\n",
    "        # creates variables \"self.area\" and \"self.separation\" which indicate\n",
    "        # the error minimizing overlapping area and initial electrode\n",
    "        # separation distance respectively unless values are already passed\n",
    "        self.area = area\n",
    "        self.separation = separation\n",
    "        if area is None or separation is None:\n",
    "            self.find_area_and_sep()\n",
    "        # creates variable for the error minimizing shear distance by taking\n",
    "        # the area and separation distance as given\n",
    "        self.shear_distance = self.find_shear_distance()\n",
    "        # prints the findins and plots the data\n",
    "        self.print_results()\n",
    "        if plot:\n",
    "            self.plot_data(self.data, self.data2)\n",
    "\n",
    "    def load_csv(self, filename):\n",
    "        \"\"\"\n",
    "        Accesses the named csv file and puts the data in a list of lists. Converts\n",
    "        the str variable entries to ints and floats. The required argument is the\n",
    "        filepath for the csv file being accessed.\n",
    "        \"\"\"\n",
    "        with open(filename) as csvfile:\n",
    "            data_array = list(csv.reader(csvfile))\n",
    "        float_array = []\n",
    "        for row in data_array:\n",
    "            float_array.append(list(map(float, row)))\n",
    "        return float_array\n",
    "\n",
    "    def avg_data(self, data_array):\n",
    "        \"\"\"\n",
    "        Groups the data by batch and averages the capacitance readings. Takes one\n",
    "        argument which is a list of lists containing all of the data in the format\n",
    "        its in as it is loaded in \"load_csv()\".\n",
    "        \"\"\"\n",
    "        max_batch = int(int(10*float(data_array[-1][0]))/10)\n",
    "        max_batch += 1\n",
    "        avg_data = []\n",
    "        for batch in range(max_batch):\n",
    "            temp_filtered_array = []\n",
    "            for row in data_array:\n",
    "                if int(int(10*float(row[0]))/10) == batch:\n",
    "                    temp_filtered_array.append(row)\n",
    "            if temp_filtered_array != []:\n",
    "                avg_data.append(np.mean(np.array(temp_filtered_array), axis = 0).tolist())\n",
    "        print(avg_data)\n",
    "        return avg_data\n",
    "\n",
    "\n",
    "    def cap_formula(self, params):\n",
    "        \"\"\"\n",
    "        Finds the sum of the squared errors between the experimental and\n",
    "        theoretical capacitance values. Takes one required argument that is a\n",
    "        list of parameters [area, separation] which are the overlapping area and\n",
    "        initial separation distance.\n",
    "        \"\"\"\n",
    "        # filters the data for only cases were the stack was NOT sheared\n",
    "        area, separation = params\n",
    "        if self.area is not None:\n",
    "            area = self.area\n",
    "        if self.separation is not None:\n",
    "            separation = self.separation\n",
    "        # sums the squared error for each of the sheared cases\n",
    "        error = 0\n",
    "        for row in self.data:\n",
    "            # row[-1] is the experimental capacitance and row[0] is the batch\n",
    "            # number which implictly tells the separation distance relative to\n",
    "            # the initial separation\n",
    "            error += (row[-1]-self.ep*area/(separation+self.step_size*row[0]))**2\n",
    "        return error\n",
    "\n",
    "    def shear(self, x):\n",
    "        \"\"\"\n",
    "        Finds the sum of the squared errors between the experimental and\n",
    "        theoretical capacitance values. Takes one required argument that is\n",
    "        the shear distance of the stack.\n",
    "        \"\"\"\n",
    "        # sums the squared error for each of the sheared cases\n",
    "        error = 0\n",
    "        for row in self.data2:\n",
    "            error += (row[-1]-self.ep*self.area/(self.separation+x+10*(row[0])))**2\n",
    "        return error\n",
    "\n",
    "    def find_area_and_sep(self):\n",
    "        \"\"\"\n",
    "        Finds the overlapping area and initial separation distance that minimizes\n",
    "        the error in experimental and theoretical capaticance values\n",
    "        \"\"\"\n",
    "        # repeatedly runs \"cap_formula\" with different trial area and separation\n",
    "        # to determine the minimizing case\n",
    "        initial_guess = [500, 300]\n",
    "        result = optimize.minimize(self.cap_formula, initial_guess)\n",
    "        # once the minimum is found, the results are returned. Otherwise, there is\n",
    "        # an error message\n",
    "        if result.success:\n",
    "            fitted_params = result.x\n",
    "            # I only overwrite the area and separation if they were initially\n",
    "            # not passed\n",
    "            if self.area is None:\n",
    "                self.area = fitted_params[0]\n",
    "            if self.separation is None:\n",
    "                self.separation = fitted_params[1]\n",
    "            area_sep = [self.area, self.separation]\n",
    "            return area_sep\n",
    "        else:\n",
    "            raise ValueError(result.message)\n",
    "\n",
    "    def find_shear_distance(self):\n",
    "        \"\"\"\n",
    "        Finds the shear distance that minimizes the error in experimental and\n",
    "        theoretical capaticance values after taking the area and separation\n",
    "        distance as given by the global variables.\n",
    "        \"\"\"\n",
    "        # repeatedly runs \"cap_formula\" with different trial area and separation\n",
    "        # to determine the minimizing case\n",
    "        initial_guess = [1]\n",
    "        result = optimize.minimize(self.shear, initial_guess)\n",
    "        # once the minimum is found, the results are returned. Otherwise, there is\n",
    "        # an error message\n",
    "        if result.success:\n",
    "            fitted_params = result.x\n",
    "            return fitted_params[0]\n",
    "        else:\n",
    "            raise ValueError(result.message)\n",
    "\n",
    "    def print_results(self):\n",
    "        \"\"\"\n",
    "        Prints the calculated global variables of the electrodes' overlapping area,\n",
    "        the intial separation distance, and the shear distance of the stack.\n",
    "        \"\"\"\n",
    "        print(f\"Area: {self.area}\")\n",
    "        print(f\"Intitial Separation: {self.separation}\")\n",
    "        print(f\"Shear Distance: {self.shear_distance}\")\n",
    "\n",
    "    def plot_data(self, data_array, data_array2):\n",
    "        \"\"\"\n",
    "        Plots the data as batch (x axis) vs capacitance (y axis). Required argument\n",
    "        is a list of lists with batch number as the first column and capacitance as\n",
    "        the last (which is the format done by collect_data.py)\n",
    "        \"\"\"\n",
    "        print(\"plotting...\")\n",
    "        my_array = np.array(data_array)\n",
    "        my_array2 = np.array(data_array2)\n",
    "        figure(figsize=[4, 4])\n",
    "        plot(my_array[:,0], my_array[:,1], 'ko-', mfc='w')\n",
    "        plot(my_array2[:,0], my_array2[:,1], 'ko-', mfc='b')\n",
    "        suptitle(\"Capacitance overbatch\", fontsize = 14)\n",
    "        title(\"D220 offset\")\n",
    "        xlabel(\"Batch\")\n",
    "        ylabel(\"Capacitance (pF)\")\n",
    "        subplots_adjust(top=.85)\n",
    "        show()\n",
    "\n",
    "       \n",
    "\n",
    "# def main(filename, area = None, separation = None, plot = True):\n",
    "#     print(\"here2\")\n",
    "#     Shear_Distance(filename, area, separation, plot)\n",
    "#\n",
    "# main(\"csv_files/7-13_5m8.csv\", plot = False)\n",
    "\n",
    "filename = \"C:/Users/Jacob Liao/Documents/GitHub/capacitance_sensing/csv_files/try.csv\"\n",
    "filename2 = \"C:/Users/Jacob Liao/Documents/GitHub/capacitance_sensing/csv_files/try2.csv\"\n",
    "\n",
    "\n",
    "if __name__ == \"__main__\":\n",
    "    print(\"inside if (analyze)\")\n",
    "    Shear_Distance(filename, filename2, area = None, plot = True)"
   ]
  },
  {
   "cell_type": "code",
   "execution_count": 64,
   "metadata": {
    "ExecuteTime": {
     "end_time": "2021-08-22T17:54:19.156438Z",
     "start_time": "2021-08-22T17:54:19.150434Z"
    }
   },
   "outputs": [
    {
     "name": "stdout",
     "output_type": "stream",
     "text": [
      "[[0.0, 13.6483], [1.0, 13.11184], [2.0, 12.73898], [3.0, 12.31299], [4.0, 11.98202], [5.0, 11.65922], [6.0, 11.25555], [7.0, 10.92987], [8.0, 10.58075]]\n"
     ]
    }
   ],
   "source": [
    "with open(\"C:/Users/Jacob Liao/Documents/GitHub/capacitance_sensing/csv_files/try.csv\") as csvfile:\n",
    "    data_array = list(csv.reader(csvfile))\n",
    "try_array = []\n",
    "for row in data_array:\n",
    "    try_array.append(list(map(float, row)))\n",
    "print(try_array)"
   ]
  },
  {
   "cell_type": "code",
   "execution_count": 65,
   "metadata": {
    "ExecuteTime": {
     "end_time": "2021-08-22T17:54:20.971584Z",
     "start_time": "2021-08-22T17:54:20.964573Z"
    }
   },
   "outputs": [],
   "source": [
    "def cap_formula2(params):\n",
    "    \"\"\"\n",
    "    Finds the sum of the squared errors between the experimental and\n",
    "    theoretical capacitance values. Takes one required argument that is a\n",
    "    list of parameters [area, separation] which are the overlapping area and\n",
    "    initial separation distance.\n",
    "    \"\"\"\n",
    "    ep = 8.85\n",
    "    step_size = 10\n",
    "    area, separation = params\n",
    "    error = 0\n",
    "    for row in try_array:\n",
    "        error += (row[-1]-ep*area/(separation+step_size*row[0]))**2\n",
    "    return error"
   ]
  },
  {
   "cell_type": "code",
   "execution_count": 66,
   "metadata": {
    "ExecuteTime": {
     "end_time": "2021-08-22T17:54:22.364262Z",
     "start_time": "2021-08-22T17:54:22.352260Z"
    }
   },
   "outputs": [
    {
     "name": "stdout",
     "output_type": "stream",
     "text": [
      "[437.35567233 283.96106726]\n",
      "[437.3556723283993, 283.96106725949977]\n"
     ]
    }
   ],
   "source": [
    "initial_guess = [500, 300]\n",
    "result = optimize.minimize(cap_formula2, initial_guess)\n",
    "if result.success:\n",
    "    fitted_params = result.x\n",
    "    print(fitted_params)\n",
    "    area = fitted_params[0]\n",
    "    separation = fitted_params[1]\n",
    "    area_sep = [area, separation]\n",
    "    print(area_sep) \n",
    "else:\n",
    "    raise ValueError(result.message)"
   ]
  },
  {
   "cell_type": "code",
   "execution_count": 67,
   "metadata": {
    "ExecuteTime": {
     "end_time": "2021-08-22T17:54:23.933306Z",
     "start_time": "2021-08-22T17:54:23.927322Z"
    }
   },
   "outputs": [
    {
     "name": "stdout",
     "output_type": "stream",
     "text": [
      "[[0.0, 13.67597], [1.0, 13.14054], [2.0, 12.76617], [3.0, 12.3396], [4.0, 11.99979], [5.0, 11.6841], [6.0, 11.27629], [7.0, 10.94626]]\n"
     ]
    }
   ],
   "source": [
    "with open(\"C:/Users/Jacob Liao/Documents/GitHub/capacitance_sensing/csv_files/try2.csv\") as csvfile:\n",
    "    data_array = list(csv.reader(csvfile))\n",
    "try2_array = []\n",
    "for row in data_array:\n",
    "    try2_array.append(list(map(float, row)))\n",
    "print(try2_array)"
   ]
  },
  {
   "cell_type": "code",
   "execution_count": 68,
   "metadata": {
    "ExecuteTime": {
     "end_time": "2021-08-22T17:54:25.433239Z",
     "start_time": "2021-08-22T17:54:25.427242Z"
    }
   },
   "outputs": [],
   "source": [
    "def shear2(x):\n",
    "    \"\"\"\n",
    "    Finds the sum of the squared errors between the experimental and\n",
    "    theoretical capacitance values. Takes one required argument that is\n",
    "    the shear distance of the stack.\n",
    "    \"\"\"\n",
    "        # sums the squared error for each of the sheared cases\n",
    "    ep = 8.85\n",
    "    error = 0\n",
    "    for row in try2_array:\n",
    "        error += (row[-1]-ep*area/(separation+x+10*(row[0])))**2\n",
    "    return error"
   ]
  },
  {
   "cell_type": "code",
   "execution_count": 69,
   "metadata": {
    "ExecuteTime": {
     "end_time": "2021-08-22T17:54:27.318753Z",
     "start_time": "2021-08-22T17:54:27.309753Z"
    }
   },
   "outputs": [
    {
     "name": "stdout",
     "output_type": "stream",
     "text": [
      "-0.7421114072045104\n"
     ]
    }
   ],
   "source": [
    "# repeatedly runs \"cap_formula\" with different trial area and separation\n",
    "# to determine the minimizing case\n",
    "initial_guess = [1]\n",
    "result = optimize.minimize(shear2, initial_guess)\n",
    "# once the minimum is found, the results are returned. Otherwise, there is\n",
    "# an error message\n",
    "if result.success:\n",
    "    fitted_params = result.x\n",
    "    print(fitted_params[0])\n",
    "else:\n",
    "    raise ValueError(result.message)"
   ]
  },
  {
   "cell_type": "code",
   "execution_count": 73,
   "metadata": {
    "ExecuteTime": {
     "end_time": "2021-08-22T17:57:52.375193Z",
     "start_time": "2021-08-22T17:57:52.370193Z"
    }
   },
   "outputs": [
    {
     "data": {
      "text/plain": [
       "[[0.0, 13.6483],\n",
       " [1.0, 13.11184],\n",
       " [2.0, 12.73898],\n",
       " [3.0, 12.31299],\n",
       " [4.0, 11.98202],\n",
       " [5.0, 11.65922],\n",
       " [6.0, 11.25555],\n",
       " [7.0, 10.92987],\n",
       " [8.0, 10.58075]]"
      ]
     },
     "execution_count": 73,
     "metadata": {},
     "output_type": "execute_result"
    }
   ],
   "source": [
    "try_array"
   ]
  },
  {
   "cell_type": "code",
   "execution_count": 89,
   "metadata": {
    "ExecuteTime": {
     "end_time": "2021-08-22T18:09:54.594277Z",
     "start_time": "2021-08-22T18:09:54.591277Z"
    }
   },
   "outputs": [],
   "source": [
    "my_array = np.array(try_array)\n",
    "my2_array = np.array(try2_array)"
   ]
  },
  {
   "cell_type": "code",
   "execution_count": 90,
   "metadata": {
    "ExecuteTime": {
     "end_time": "2021-08-22T18:09:59.257163Z",
     "start_time": "2021-08-22T18:09:59.251164Z"
    }
   },
   "outputs": [
    {
     "data": {
      "text/plain": [
       "array([0., 1., 2., 3., 4., 5., 6., 7.])"
      ]
     },
     "execution_count": 90,
     "metadata": {},
     "output_type": "execute_result"
    }
   ],
   "source": [
    "my2_array[:,0]"
   ]
  },
  {
   "cell_type": "code",
   "execution_count": 91,
   "metadata": {
    "ExecuteTime": {
     "end_time": "2021-08-22T18:10:12.979192Z",
     "start_time": "2021-08-22T18:10:12.974203Z"
    }
   },
   "outputs": [
    {
     "data": {
      "text/plain": [
       "array([13.67597, 13.14054, 12.76617, 12.3396 , 11.99979, 11.6841 ,\n",
       "       11.27629, 10.94626])"
      ]
     },
     "execution_count": 91,
     "metadata": {},
     "output_type": "execute_result"
    }
   ],
   "source": [
    "my2_array[:,1]"
   ]
  },
  {
   "cell_type": "code",
   "execution_count": 94,
   "metadata": {
    "ExecuteTime": {
     "end_time": "2021-08-22T18:10:55.159956Z",
     "start_time": "2021-08-22T18:10:54.855424Z"
    }
   },
   "outputs": [
    {
     "data": {
      "text/plain": [
       "Text(0, 0.5, 'dI/dV (nS)')"
      ]
     },
     "execution_count": 94,
     "metadata": {},
     "output_type": "execute_result"
    },
    {
     "data": {
      "image/png": "[encoded data removed]",
      "text/plain": [
       "<Figure size 288x288 with 1 Axes>"
      ]
     },
     "metadata": {
      "needs_background": "light"
     },
     "output_type": "display_data"
    }
   ],
   "source": [
    "figure(figsize=[4, 4])\n",
    "plot(my_array[:,0], my_array[:,1], 'ko-', mfc='w')\n",
    "plot(my2_array[:,0], my2_array[:,1], 'ko-', mfc='b')\n",
    "# The format string 'ko-' creates black (k) circles (o) connected by solid lines (-).\n",
    "# mfc='w' sets the marker face color to white (w). \n",
    "xlabel('Energy (meV)')\n",
    "ylabel('dI/dV (nS)')"
   ]
  },
  {
   "cell_type": "code",
   "execution_count": null,
   "metadata": {},
   "outputs": [],
   "source": []
  }
 ],
 "metadata": {
  "kernelspec": {
   "display_name": "Python 3",
   "language": "python",
   "name": "python3"
  },
  "language_info": {
   "codemirror_mode": {
    "name": "ipython",
    "version": 3
   },
   "file_extension": ".py",
   "mimetype": "text/x-python",
   "name": "python",
   "nbconvert_exporter": "python",
   "pygments_lexer": "ipython3",
   "version": "3.7.4"
  },
  "toc": {
   "base_numbering": 1,
   "nav_menu": {},
   "number_sections": true,
   "sideBar": true,
   "skip_h1_title": false,
   "title_cell": "Table of Contents",
   "title_sidebar": "Contents",
   "toc_cell": false,
   "toc_position": {},
   "toc_section_display": true,
   "toc_window_display": false
  }
 },
 "nbformat": 4,
 "nbformat_minor": 2
}
